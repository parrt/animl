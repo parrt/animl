{
 "cells": [
  {
   "cell_type": "markdown",
   "id": "dc54a482-1a08-4042-baa7-2ab017b8ce35",
   "metadata": {},
   "source": [
    "# `dtreeviz` TensorFlow Decision Forests Examples\n",
    "\n",
    "([View this notebook in Colab](https://colab.research.google.com/github/parrt/dtreeviz/blob/master/notebooks/dtreeviz_tensorflow_visualisations.ipynb))\n",
    "\n",
    "The [dtreeviz](https://github.com/parrt/dtreeviz) library is designed to help machine learning practitioners visualize and interpret decision trees and decision-tree-based models, such as gradient boosting machines.  \n",
    "\n",
    "The purpose of this notebook is to illustrate the main capabilities and functions of the dtreeviz API. To do that, we will use TensorFlow Decision Forests and the toy but well-known Titanic data set for illustrative purposes.  Currently, dtreeviz supports the following decision tree libraries:\n",
    "\n",
    "* [scikit-learn](https://scikit-learn.org/stable)\n",
    "* [XGBoost](https://xgboost.readthedocs.io/en/latest)\n",
    "* [Spark MLlib](https://spark.apache.org/mllib/)\n",
    "* [LightGBM](https://lightgbm.readthedocs.io/en/latest/)\n",
    "* [Tensorflow](https://www.tensorflow.org/decision_forests)\n",
    "\n",
    "To interopt with these different libraries, dtreeviz uses an adaptor object, obtained from function `dtreeviz.model()`, to extract model information necessary for visualization. Given such an adaptor object, all of the dtreeviz functionality is available to you using the same programmer interface. The basic dtreeviz usage recipe is:\n",
    "\n",
    "1. Import dtreeviz and your decision tree library\n",
    "2. Acquire and load data into memory\n",
    "3. Train a classifier or regressor model using your decision tree library\n",
    "4. Obtain a dtreeviz adaptor model using<br>`viz_model = dtreeviz.model(your_trained_model,...)`\n",
    "5. Call dtreeviz functions, such as<br>`viz_model.view()` or `viz_model.explain_prediction_path(sample_x)`\n",
    "\n",
    "The four categories of dtreeviz functionality are:\n",
    "\n",
    "1. Tree visualizations\n",
    "2. Prediction path explanations\n",
    "3. Leaf information\n",
    "4. Feature space exploration\n",
    "\n",
    "We have grouped code examples by [classifiers](#Classifiers) and [regressors](#Regressors), with a follow up section on [partitioning feature space](#Feature-Space-Partitioning).\n",
    "\n",
    "*These examples require dtreeviz 2.0 or above because the code uses the new API introduced in 2.0.*"
   ]
  },
  {
   "cell_type": "markdown",
   "id": "539c89e2-e521-4b62-b5df-a825cf73bcb3",
   "metadata": {},
   "source": [
    "## Setup"
   ]
  },
  {
   "cell_type": "code",
   "execution_count": 1,
   "id": "905e9312",
   "metadata": {},
   "outputs": [],
   "source": [
    "import sys"
   ]
  },
  {
   "cell_type": "code",
   "execution_count": 61,
   "id": "83708484",
   "metadata": {},
   "outputs": [],
   "source": [
    "%config InlineBackend.figure_format = 'retina' # Make visualizations look good\n",
    "#%config InlineBackend.figure_format = 'svg' \n",
    "%matplotlib inline\n",
    "\n",
    "if 'google.colab' in sys.modules:\n",
    "  !pip install -q dtreeviz\n",
    "  !pip install -q tensorflow_decision_forests"
   ]
  },
  {
   "cell_type": "code",
   "execution_count": 62,
   "id": "7c84b85c",
   "metadata": {},
   "outputs": [],
   "source": [
    "import tensorflow_decision_forests as tf\n",
    "from tensorflow_decision_forests.tensorflow.core import Task\n",
    "\n",
    "from sklearn.model_selection import train_test_split\n",
    "\n",
    "import pandas as pd\n",
    "from collections import defaultdict\n",
    "\n",
    "import dtreeviz\n",
    "\n",
    "random_state = 1234 # get reproducible trees"
   ]
  },
  {
   "cell_type": "markdown",
   "id": "a30d65da",
   "metadata": {},
   "source": [
    "## Load Sample Data"
   ]
  },
  {
   "cell_type": "code",
   "execution_count": null,
   "id": "016e16eb",
   "metadata": {},
   "outputs": [],
   "source": [
    "random_state = 1234\n",
    "dataset_url = \"https://raw.githubusercontent.com/parrt/dtreeviz/master/data/titanic/titanic.csv\"\n",
    "dataset = pd.read_csv(dataset_url)\n",
    "# Fill missing values for Age\n",
    "dataset.fillna({\"Age\":dataset.Age.mean()}, inplace=True)\n",
    "# Encode categorical variables\n",
    "dataset[\"Sex_label\"] = dataset.Sex.astype(\"category\").cat.codes\n",
    "\n",
    "dataset[\"Cabin_label\"] = dataset.Cabin.astype(\"category\").cat.codes\n",
    "dataset[\"Embarked_label\"] = dataset.Embarked.astype(\"category\").cat.codes\n"
   ]
  },
  {
   "cell_type": "markdown",
   "id": "2e20d0ae",
   "metadata": {},
   "source": [
    "# Classifiers\n",
    "\n",
    "To demonstrate classifier decision trees, we trying to model using six features to predict the boolean survived target."
   ]
  },
  {
   "cell_type": "code",
   "execution_count": null,
   "id": "ce77924c",
   "metadata": {},
   "outputs": [],
   "source": [
    "features = [\"Pclass\", \"Age\", \"Fare\", \"Sex_label\", \"Cabin_label\", \"Embarked_label\"]\n",
    "target = \"Survived\"\n",
    "\n",
    "dataset_tf = tf.keras.pd_dataframe_to_tf_dataset(dataset[features + [target]], label=target)\n",
    "model = tf.keras.RandomForestModel(num_trees=1, max_depth=4, random_seed = random_state)\n",
    "model.fit(dataset_tf)"
   ]
  },
  {
   "cell_type": "markdown",
   "id": "8486ecf6",
   "metadata": {},
   "source": [
    "## Initialize dtreeviz model (adaptor)\n",
    "\n",
    "To adapt dtreeviz to a specific model, use the `model()` function to get an adaptor.  You'll need to provide the model, X/y data, feature names, target name, and target class names:"
   ]
  },
  {
   "cell_type": "code",
   "execution_count": null,
   "id": "461f1301",
   "metadata": {},
   "outputs": [],
   "source": [
    "viz_model = dtreeviz.model(model, tree_index=0, \n",
    "                             x_data=dataset[features], \n",
    "                             y_data=dataset[target], \n",
    "                             feature_names=features, \n",
    "                             target_name=target,\n",
    "                             class_names=[\"survive\", \"perish\"])"
   ]
  },
  {
   "cell_type": "markdown",
   "id": "8c820880",
   "metadata": {},
   "source": [
    "We'll use this model to demonstrate dtreeviz functionality in the following sections; the code will look the same for any decision tree library once we have this model adaptor."
   ]
  },
  {
   "cell_type": "markdown",
   "id": "1bed128f",
   "metadata": {},
   "source": [
    "## Tree structure visualizations\n",
    "To show the decision tree structure using the default visualization, call `view()`:"
   ]
  },
  {
   "cell_type": "code",
   "execution_count": null,
   "id": "b5603276",
   "metadata": {},
   "outputs": [],
   "source": [
    "viz_model.view()"
   ]
  },
  {
   "cell_type": "markdown",
   "id": "c1531f06",
   "metadata": {},
   "source": [
    "To change the visualization, you can pass parameters, such as changing the orientation to left-to-right:"
   ]
  },
  {
   "cell_type": "code",
   "execution_count": null,
   "id": "6b8761ac",
   "metadata": {},
   "outputs": [],
   "source": [
    "viz_model.view(orientation=\"LR\")"
   ]
  },
  {
   "cell_type": "markdown",
   "id": "73a0eeaa",
   "metadata": {},
   "source": [
    "To visualize larger trees, you can reduce the amount of detail by turning off the fancy view:"
   ]
  },
  {
   "cell_type": "code",
   "execution_count": null,
   "id": "2135da31",
   "metadata": {},
   "outputs": [],
   "source": [
    "viz_model.view(fancy=False)"
   ]
  },
  {
   "cell_type": "markdown",
   "id": "4cda1842",
   "metadata": {},
   "source": [
    "Another way to reduce the visualization size is to specify the tree depths of interest:"
   ]
  },
  {
   "cell_type": "code",
   "execution_count": null,
   "id": "4d8b1848",
   "metadata": {},
   "outputs": [],
   "source": [
    "viz_model.view(depth_range_to_display=(1, 2)) # root is level 0"
   ]
  },
  {
   "cell_type": "markdown",
   "id": "27d17d40",
   "metadata": {},
   "source": [
    "## Prediction path explanations\n",
    "\n",
    "For interpretation purposes, we often want to understand how a tree behaves for a specific instance. Let's pick a specific instance:"
   ]
  },
  {
   "cell_type": "code",
   "execution_count": null,
   "id": "fd2187c9",
   "metadata": {},
   "outputs": [],
   "source": [
    "x = dataset[features].iloc[10]\n",
    "x"
   ]
  },
  {
   "cell_type": "markdown",
   "id": "d8de4bb5",
   "metadata": {},
   "source": [
    "and then display the path through the tree structure:"
   ]
  },
  {
   "cell_type": "code",
   "execution_count": null,
   "id": "76c1b01e",
   "metadata": {},
   "outputs": [],
   "source": [
    "viz_model.view(x=x)"
   ]
  },
  {
   "cell_type": "code",
   "execution_count": null,
   "id": "9e92844b",
   "metadata": {},
   "outputs": [],
   "source": [
    "viz_model.view(x=x, show_just_path=True)"
   ]
  },
  {
   "cell_type": "markdown",
   "id": "6101c689",
   "metadata": {},
   "source": [
    "You can also get a string representation explaining the comparisons made as an instance is run down the tree:"
   ]
  },
  {
   "cell_type": "code",
   "execution_count": null,
   "id": "d628492a",
   "metadata": {},
   "outputs": [],
   "source": [
    "print(viz_model.explain_prediction_path(x))"
   ]
  },
  {
   "cell_type": "markdown",
   "id": "88bbb700",
   "metadata": {},
   "source": [
    "## Leaf info\n",
    "\n",
    "There are a number of functions to get information about the leaves of the tree."
   ]
  },
  {
   "cell_type": "code",
   "execution_count": null,
   "id": "9dd1d2cf",
   "metadata": {},
   "outputs": [],
   "source": [
    "viz_model.leaf_sizes()"
   ]
  },
  {
   "cell_type": "code",
   "execution_count": null,
   "id": "a733eef0",
   "metadata": {},
   "outputs": [],
   "source": [
    "viz_model.ctree_leaf_distributions()"
   ]
  },
  {
   "cell_type": "code",
   "execution_count": null,
   "id": "92678f59",
   "metadata": {},
   "outputs": [],
   "source": [
    "viz_model.node_stats(node_id=4)"
   ]
  },
  {
   "cell_type": "code",
   "execution_count": null,
   "id": "1389c597",
   "metadata": {},
   "outputs": [],
   "source": []
  },
  {
   "cell_type": "markdown",
   "id": "a1a2c393",
   "metadata": {},
   "source": [
    "# Regressors\n",
    "\n",
    "To demonstrate regressor tree visualization, we start by creating a regressors model that predicts age instead of survival:"
   ]
  },
  {
   "cell_type": "code",
   "execution_count": null,
   "id": "41de683c",
   "metadata": {},
   "outputs": [],
   "source": [
    "features_reg = [\"Pclass\", \"Fare\", \"Sex_label\", \"Cabin_label\", \"Embarked_label\", \"Survived\"]\n",
    "target_reg = \"Age\"\n",
    "\n",
    "dataset_rtf = tf.keras.pd_dataframe_to_tf_dataset(dataset[features_reg + [target_reg]], label = target_reg, task=Task.REGRESSION)\n",
    "\n",
    "model_reg = tf.keras.RandomForestModel(num_trees=4, max_depth=4, random_seed = random_state, bootstrap_training_dataset=False, sampling_with_replacement=False, task=Task.REGRESSION)\n",
    "model_reg.fit(dataset_rtf)\n",
    "\n",
    "\n"
   ]
  },
  {
   "cell_type": "markdown",
   "id": "9e206113",
   "metadata": {},
   "source": [
    "## Initialize dtreeviz model (adaptor)"
   ]
  },
  {
   "cell_type": "code",
   "execution_count": null,
   "id": "065abe94",
   "metadata": {},
   "outputs": [],
   "source": [
    "viz_rmodel = dtreeviz.model(model_reg, tree_index=0, \n",
    "                             x_data=dataset[features_reg], \n",
    "                             y_data=dataset[target_reg], \n",
    "                             feature_names=features_reg, \n",
    "                             target_name=target_reg)"
   ]
  },
  {
   "cell_type": "markdown",
   "id": "96fa1d4e",
   "metadata": {},
   "source": [
    "## Tree structure visualisations"
   ]
  },
  {
   "cell_type": "code",
   "execution_count": null,
   "id": "e374234f",
   "metadata": {},
   "outputs": [],
   "source": [
    "viz_rmodel.view()"
   ]
  },
  {
   "cell_type": "code",
   "execution_count": null,
   "id": "22832df3",
   "metadata": {},
   "outputs": [],
   "source": [
    "viz_rmodel.view(orientation=\"LR\")"
   ]
  },
  {
   "cell_type": "code",
   "execution_count": null,
   "id": "e35aa63f",
   "metadata": {},
   "outputs": [],
   "source": [
    "viz_rmodel.view(fancy=False)"
   ]
  },
  {
   "cell_type": "code",
   "execution_count": null,
   "id": "80a7c3d6",
   "metadata": {},
   "outputs": [],
   "source": [
    "viz_rmodel.view(depth_range_to_display=(0, 2))"
   ]
  },
  {
   "cell_type": "markdown",
   "id": "691fb5b1",
   "metadata": {},
   "source": [
    "## Prediction path explanations"
   ]
  },
  {
   "cell_type": "code",
   "execution_count": null,
   "id": "04c9cb7a",
   "metadata": {},
   "outputs": [],
   "source": [
    "x = dataset[features_reg].iloc[10]\n",
    "x"
   ]
  },
  {
   "cell_type": "code",
   "execution_count": null,
   "id": "d3ace9e8",
   "metadata": {},
   "outputs": [],
   "source": [
    "viz_rmodel.view(x = x)"
   ]
  },
  {
   "cell_type": "code",
   "execution_count": null,
   "id": "5624b5cf",
   "metadata": {},
   "outputs": [],
   "source": [
    "viz_rmodel.view(show_just_path=True, x = x)"
   ]
  },
  {
   "cell_type": "code",
   "execution_count": null,
   "id": "c676ac7a",
   "metadata": {},
   "outputs": [],
   "source": [
    "print(viz_rmodel.explain_prediction_path(x))"
   ]
  },
  {
   "cell_type": "markdown",
   "id": "ca99fa94",
   "metadata": {},
   "source": [
    "## Leaf info"
   ]
  },
  {
   "cell_type": "code",
   "execution_count": null,
   "id": "0984c89c",
   "metadata": {},
   "outputs": [],
   "source": [
    "viz_rmodel.leaf_sizes()"
   ]
  },
  {
   "cell_type": "code",
   "execution_count": null,
   "id": "0e96075d",
   "metadata": {},
   "outputs": [],
   "source": [
    "viz_rmodel.rtree_leaf_distributions()"
   ]
  },
  {
   "cell_type": "code",
   "execution_count": null,
   "id": "8183c750",
   "metadata": {},
   "outputs": [],
   "source": [
    "viz_rmodel.node_stats(node_id=6)"
   ]
  },
  {
   "cell_type": "markdown",
   "id": "08e6b68b",
   "metadata": {},
   "source": [
    "# Feature Space Partitioning\n",
    "\n",
    "Decision trees partition feature space in such a way as to maximize target value purity for the instances associated with a node. It's often useful to visualize the feature space partitioning, although it's not feasible to visualize more than a couple of dimensions."
   ]
  },
  {
   "cell_type": "markdown",
   "id": "cd13140d",
   "metadata": {},
   "source": [
    "*work in progress for this library*\n",
    "\n",
    "See [Feature Space Partitioning for scikit-learn](dtreeviz_sklearn_visualisations.ipynb#Feature_Space_Partitioning) for now."
   ]
  }
 ],
 "metadata": {
  "kernelspec": {
   "display_name": "Python 3",
   "language": "python",
   "name": "python3"
  },
  "language_info": {
   "codemirror_mode": {
    "name": "ipython",
    "version": 3
   },
   "file_extension": ".py",
   "mimetype": "text/x-python",
   "name": "python",
   "nbconvert_exporter": "python",
   "pygments_lexer": "ipython3",
   "version": "3.8.2"
  },
  "toc": {
   "base_numbering": 1,
   "nav_menu": {},
   "number_sections": true,
   "sideBar": true,
   "skip_h1_title": false,
   "title_cell": "Table of Contents",
   "title_sidebar": "Contents",
   "toc_cell": false,
   "toc_position": {},
   "toc_section_display": true,
   "toc_window_display": true
  }
 },
 "nbformat": 4,
 "nbformat_minor": 5
}
